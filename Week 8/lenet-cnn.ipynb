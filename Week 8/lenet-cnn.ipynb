{
 "cells": [
  {
   "cell_type": "code",
   "execution_count": null,
   "metadata": {
    "execution": {
     "iopub.execute_input": "2025-09-27T04:55:15.745141Z",
     "iopub.status.busy": "2025-09-27T04:55:15.744755Z",
     "iopub.status.idle": "2025-09-27T04:55:20.237239Z",
     "shell.execute_reply": "2025-09-27T04:55:20.235420Z",
     "shell.execute_reply.started": "2025-09-27T04:55:15.745117Z"
    },
    "trusted": true
   },
   "outputs": [],
   "source": [
    "import tensorflow as tf\n",
    "from tensorflow import keras\n",
    "from keras.datasets import mnist\n",
    "from keras import Sequential\n",
    "from keras.layers import Dense, Conv2D, AveragePooling2D, Flatten\n",
    "from warnings import filterwarnings\n",
    "filterwarnings('ignore')"
   ]
  },
  {
   "cell_type": "code",
   "execution_count": null,
   "metadata": {
    "execution": {
     "iopub.execute_input": "2025-09-27T04:55:20.238867Z",
     "iopub.status.busy": "2025-09-27T04:55:20.238301Z",
     "iopub.status.idle": "2025-09-27T04:55:20.654606Z",
     "shell.execute_reply": "2025-09-27T04:55:20.653518Z",
     "shell.execute_reply.started": "2025-09-27T04:55:20.238839Z"
    },
    "trusted": true
   },
   "outputs": [],
   "source": [
    "(X_train, y_train),(X_test, y_test) = mnist.load_data()"
   ]
  },
  {
   "cell_type": "code",
   "execution_count": null,
   "metadata": {
    "execution": {
     "iopub.execute_input": "2025-09-27T04:55:20.655870Z",
     "iopub.status.busy": "2025-09-27T04:55:20.655523Z",
     "iopub.status.idle": "2025-09-27T04:55:20.662952Z",
     "shell.execute_reply": "2025-09-27T04:55:20.661845Z",
     "shell.execute_reply.started": "2025-09-27T04:55:20.655829Z"
    },
    "trusted": true
   },
   "outputs": [],
   "source": [
    "print(X_train.shape)\n",
    "print(y_train.shape)\n",
    "print(X_test.shape)\n",
    "print(y_test.shape)"
   ]
  },
  {
   "cell_type": "code",
   "execution_count": null,
   "metadata": {
    "execution": {
     "iopub.execute_input": "2025-09-27T04:55:20.664308Z",
     "iopub.status.busy": "2025-09-27T04:55:20.663969Z",
     "iopub.status.idle": "2025-09-27T04:55:20.751845Z",
     "shell.execute_reply": "2025-09-27T04:55:20.750772Z",
     "shell.execute_reply.started": "2025-09-27T04:55:20.664277Z"
    },
    "trusted": true
   },
   "outputs": [],
   "source": [
    "import matplotlib.pyplot as plt\n",
    "# View first image\n",
    "plt.imshow(X_train[2], cmap='gray')\n",
    "plt.axis('off')\n",
    "plt.show()"
   ]
  },
  {
   "cell_type": "code",
   "execution_count": null,
   "metadata": {
    "execution": {
     "iopub.execute_input": "2025-09-27T04:55:20.755145Z",
     "iopub.status.busy": "2025-09-27T04:55:20.754828Z",
     "iopub.status.idle": "2025-09-27T04:55:20.897624Z",
     "shell.execute_reply": "2025-09-27T04:55:20.896538Z",
     "shell.execute_reply.started": "2025-09-27T04:55:20.755122Z"
    },
    "trusted": true
   },
   "outputs": [],
   "source": [
    "model = Sequential()\n",
    "model.add(Conv2D(6, kernel_size=(5,5), padding='valid', activation='tanh', input_shape=(28,28,1)))\n",
    "model.add(AveragePooling2D(pool_size=(2,2), strides=2, padding='valid'))\n",
    "\n",
    "model.add(Conv2D(16, kernel_size=(5,5), padding='valid', activation='tanh'))\n",
    "model.add(AveragePooling2D(pool_size=(2,2), strides=2, padding='valid'))\n",
    "\n",
    "model.add(Flatten())\n",
    "\n",
    "model.add(Dense(128, activation='tanh'))\n",
    "model.add(Dense(64, activation='tanh'))\n",
    "model.add(Dense(32, activation='tanh'))\n",
    "model.add(Dense(10, activation='softmax'))"
   ]
  },
  {
   "cell_type": "code",
   "execution_count": null,
   "metadata": {
    "execution": {
     "iopub.execute_input": "2025-09-27T04:55:20.899270Z",
     "iopub.status.busy": "2025-09-27T04:55:20.898748Z",
     "iopub.status.idle": "2025-09-27T04:55:20.924014Z",
     "shell.execute_reply": "2025-09-27T04:55:20.923017Z",
     "shell.execute_reply.started": "2025-09-27T04:55:20.899244Z"
    },
    "trusted": true
   },
   "outputs": [],
   "source": [
    "model.summary()"
   ]
  },
  {
   "cell_type": "code",
   "execution_count": null,
   "metadata": {
    "execution": {
     "iopub.execute_input": "2025-09-27T04:55:20.926033Z",
     "iopub.status.busy": "2025-09-27T04:55:20.925081Z",
     "iopub.status.idle": "2025-09-27T04:58:23.504843Z",
     "shell.execute_reply": "2025-09-27T04:58:23.503763Z",
     "shell.execute_reply.started": "2025-09-27T04:55:20.925994Z"
    },
    "trusted": true
   },
   "outputs": [],
   "source": [
    "model.compile(optimizer='adam', loss='sparse_categorical_crossentropy', metrics=['accuracy'])\n",
    "\n",
    "model.fit(X_train, y_train, epochs=10, batch_size=32)"
   ]
  },
  {
   "cell_type": "code",
   "execution_count": null,
   "metadata": {
    "execution": {
     "iopub.execute_input": "2025-09-27T04:58:23.506262Z",
     "iopub.status.busy": "2025-09-27T04:58:23.505947Z",
     "iopub.status.idle": "2025-09-27T04:58:25.402139Z",
     "shell.execute_reply": "2025-09-27T04:58:25.400966Z",
     "shell.execute_reply.started": "2025-09-27T04:58:23.506239Z"
    },
    "trusted": true
   },
   "outputs": [],
   "source": [
    "import numpy as np\n",
    "from sklearn.metrics import accuracy_score\n",
    "\n",
    "y_pred_probs = model.predict(X_test)\n",
    "\n",
    "# Convert probabilities (continuous-multioutput) to hard class labels (multiclass)\n",
    "y_pred_hard = np.argmax(y_pred_probs, axis=1)\n",
    "\n",
    "# Now calculate the accuracy\n",
    "acc = accuracy_score(y_test, y_pred_hard)\n",
    "print('Accuracy : ', acc*100)"
   ]
  }
 ],
 "metadata": {
  "kaggle": {
   "accelerator": "none",
   "dataSources": [],
   "dockerImageVersionId": 31089,
   "isGpuEnabled": false,
   "isInternetEnabled": true,
   "language": "python",
   "sourceType": "notebook"
  },
  "kernelspec": {
   "display_name": "Python 3",
   "language": "python",
   "name": "python3"
  },
  "language_info": {
   "codemirror_mode": {
    "name": "ipython",
    "version": 3
   },
   "file_extension": ".py",
   "mimetype": "text/x-python",
   "name": "python",
   "nbconvert_exporter": "python",
   "pygments_lexer": "ipython3",
   "version": "3.11.13"
  }
 },
 "nbformat": 4,
 "nbformat_minor": 4
}
