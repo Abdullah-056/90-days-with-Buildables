{
 "cells": [
  {
   "cell_type": "code",
   "execution_count": 1,
   "id": "2fad5890",
   "metadata": {
    "_cell_guid": "b1076dfc-b9ad-4769-8c92-a6c4dae69d19",
    "_uuid": "8f2839f25d086af736a60e9eeb907d3b93b6e0e5",
    "execution": {
     "iopub.execute_input": "2025-09-09T18:27:56.613423Z",
     "iopub.status.busy": "2025-09-09T18:27:56.613162Z",
     "iopub.status.idle": "2025-09-09T18:27:58.191852Z",
     "shell.execute_reply": "2025-09-09T18:27:58.190962Z"
    },
    "papermill": {
     "duration": 1.585496,
     "end_time": "2025-09-09T18:27:58.193100",
     "exception": false,
     "start_time": "2025-09-09T18:27:56.607604",
     "status": "completed"
    },
    "tags": []
   },
   "outputs": [
    {
     "name": "stdout",
     "output_type": "stream",
     "text": [
      "/kaggle/input/weather-dataset-rattle-package/weatherAUS.csv\n",
      "/kaggle/input/airline-passenger-satisfaction/train.csv\n",
      "/kaggle/input/airline-passenger-satisfaction/test.csv\n"
     ]
    }
   ],
   "source": [
    "# This Python 3 environment comes with many helpful analytics libraries installed\n",
    "# It is defined by the kaggle/python Docker image: https://github.com/kaggle/docker-python\n",
    "# For example, here's several helpful packages to load\n",
    "\n",
    "import numpy as np # linear algebra\n",
    "import pandas as pd # data processing, CSV file I/O (e.g. pd.read_csv)\n",
    "\n",
    "# Input data files are available in the read-only \"../input/\" directory\n",
    "# For example, running this (by clicking run or pressing Shift+Enter) will list all files under the input directory\n",
    "\n",
    "import os\n",
    "for dirname, _, filenames in os.walk('/kaggle/input'):\n",
    "    for filename in filenames:\n",
    "        print(os.path.join(dirname, filename))\n",
    "\n",
    "# You can write up to 20GB to the current directory (/kaggle/working/) that gets preserved as output when you create a version using \"Save & Run All\" \n",
    "# You can also write temporary files to /kaggle/temp/, but they won't be saved outside of the current session"
   ]
  },
  {
   "cell_type": "markdown",
   "id": "ba1acea1",
   "metadata": {
    "papermill": {
     "duration": 0.003305,
     "end_time": "2025-09-09T18:27:58.200431",
     "exception": false,
     "start_time": "2025-09-09T18:27:58.197126",
     "status": "completed"
    },
    "tags": []
   },
   "source": [
    "# Data Preprocessing"
   ]
  },
  {
   "cell_type": "code",
   "execution_count": 2,
   "id": "1989cf2f",
   "metadata": {
    "execution": {
     "iopub.execute_input": "2025-09-09T18:27:58.208767Z",
     "iopub.status.busy": "2025-09-09T18:27:58.208348Z",
     "iopub.status.idle": "2025-09-09T18:27:59.907128Z",
     "shell.execute_reply": "2025-09-09T18:27:59.906377Z"
    },
    "papermill": {
     "duration": 1.704746,
     "end_time": "2025-09-09T18:27:59.908651",
     "exception": false,
     "start_time": "2025-09-09T18:27:58.203905",
     "status": "completed"
    },
    "tags": []
   },
   "outputs": [],
   "source": [
    "import pandas as pd\n",
    "import numpy as np\n",
    "import matplotlib.pyplot as plt\n",
    "import seaborn as sns\n",
    "from warnings import filterwarnings\n",
    "filterwarnings(\"ignore\")"
   ]
  },
  {
   "cell_type": "code",
   "execution_count": 3,
   "id": "ff5683d5",
   "metadata": {
    "execution": {
     "iopub.execute_input": "2025-09-09T18:27:59.917198Z",
     "iopub.status.busy": "2025-09-09T18:27:59.916852Z",
     "iopub.status.idle": "2025-09-09T18:28:00.326807Z",
     "shell.execute_reply": "2025-09-09T18:28:00.325821Z"
    },
    "papermill": {
     "duration": 0.415997,
     "end_time": "2025-09-09T18:28:00.328599",
     "exception": false,
     "start_time": "2025-09-09T18:27:59.912602",
     "status": "completed"
    },
    "tags": []
   },
   "outputs": [
    {
     "name": "stdout",
     "output_type": "stream",
     "text": [
      "Shape of the dataset is :  (103904, 25)\n"
     ]
    },
    {
     "data": {
      "text/html": [
       "<div>\n",
       "<style scoped>\n",
       "    .dataframe tbody tr th:only-of-type {\n",
       "        vertical-align: middle;\n",
       "    }\n",
       "\n",
       "    .dataframe tbody tr th {\n",
       "        vertical-align: top;\n",
       "    }\n",
       "\n",
       "    .dataframe thead th {\n",
       "        text-align: right;\n",
       "    }\n",
       "</style>\n",
       "<table border=\"1\" class=\"dataframe\">\n",
       "  <thead>\n",
       "    <tr style=\"text-align: right;\">\n",
       "      <th></th>\n",
       "      <th>Unnamed: 0</th>\n",
       "      <th>id</th>\n",
       "      <th>Gender</th>\n",
       "      <th>Customer Type</th>\n",
       "      <th>Age</th>\n",
       "      <th>Type of Travel</th>\n",
       "      <th>Class</th>\n",
       "      <th>Flight Distance</th>\n",
       "      <th>Inflight wifi service</th>\n",
       "      <th>Departure/Arrival time convenient</th>\n",
       "      <th>Ease of Online booking</th>\n",
       "      <th>Gate location</th>\n",
       "      <th>Food and drink</th>\n",
       "      <th>Online boarding</th>\n",
       "      <th>Seat comfort</th>\n",
       "      <th>Inflight entertainment</th>\n",
       "      <th>On-board service</th>\n",
       "      <th>Leg room service</th>\n",
       "      <th>Baggage handling</th>\n",
       "      <th>Checkin service</th>\n",
       "      <th>Inflight service</th>\n",
       "      <th>Cleanliness</th>\n",
       "      <th>Departure Delay in Minutes</th>\n",
       "      <th>Arrival Delay in Minutes</th>\n",
       "      <th>satisfaction</th>\n",
       "    </tr>\n",
       "  </thead>\n",
       "  <tbody>\n",
       "    <tr>\n",
       "      <th>0</th>\n",
       "      <td>0</td>\n",
       "      <td>70172</td>\n",
       "      <td>Male</td>\n",
       "      <td>Loyal Customer</td>\n",
       "      <td>13</td>\n",
       "      <td>Personal Travel</td>\n",
       "      <td>Eco Plus</td>\n",
       "      <td>460</td>\n",
       "      <td>3</td>\n",
       "      <td>4</td>\n",
       "      <td>3</td>\n",
       "      <td>1</td>\n",
       "      <td>5</td>\n",
       "      <td>3</td>\n",
       "      <td>5</td>\n",
       "      <td>5</td>\n",
       "      <td>4</td>\n",
       "      <td>3</td>\n",
       "      <td>4</td>\n",
       "      <td>4</td>\n",
       "      <td>5</td>\n",
       "      <td>5</td>\n",
       "      <td>25</td>\n",
       "      <td>18.0</td>\n",
       "      <td>neutral or dissatisfied</td>\n",
       "    </tr>\n",
       "    <tr>\n",
       "      <th>1</th>\n",
       "      <td>1</td>\n",
       "      <td>5047</td>\n",
       "      <td>Male</td>\n",
       "      <td>disloyal Customer</td>\n",
       "      <td>25</td>\n",
       "      <td>Business travel</td>\n",
       "      <td>Business</td>\n",
       "      <td>235</td>\n",
       "      <td>3</td>\n",
       "      <td>2</td>\n",
       "      <td>3</td>\n",
       "      <td>3</td>\n",
       "      <td>1</td>\n",
       "      <td>3</td>\n",
       "      <td>1</td>\n",
       "      <td>1</td>\n",
       "      <td>1</td>\n",
       "      <td>5</td>\n",
       "      <td>3</td>\n",
       "      <td>1</td>\n",
       "      <td>4</td>\n",
       "      <td>1</td>\n",
       "      <td>1</td>\n",
       "      <td>6.0</td>\n",
       "      <td>neutral or dissatisfied</td>\n",
       "    </tr>\n",
       "    <tr>\n",
       "      <th>2</th>\n",
       "      <td>2</td>\n",
       "      <td>110028</td>\n",
       "      <td>Female</td>\n",
       "      <td>Loyal Customer</td>\n",
       "      <td>26</td>\n",
       "      <td>Business travel</td>\n",
       "      <td>Business</td>\n",
       "      <td>1142</td>\n",
       "      <td>2</td>\n",
       "      <td>2</td>\n",
       "      <td>2</td>\n",
       "      <td>2</td>\n",
       "      <td>5</td>\n",
       "      <td>5</td>\n",
       "      <td>5</td>\n",
       "      <td>5</td>\n",
       "      <td>4</td>\n",
       "      <td>3</td>\n",
       "      <td>4</td>\n",
       "      <td>4</td>\n",
       "      <td>4</td>\n",
       "      <td>5</td>\n",
       "      <td>0</td>\n",
       "      <td>0.0</td>\n",
       "      <td>satisfied</td>\n",
       "    </tr>\n",
       "    <tr>\n",
       "      <th>3</th>\n",
       "      <td>3</td>\n",
       "      <td>24026</td>\n",
       "      <td>Female</td>\n",
       "      <td>Loyal Customer</td>\n",
       "      <td>25</td>\n",
       "      <td>Business travel</td>\n",
       "      <td>Business</td>\n",
       "      <td>562</td>\n",
       "      <td>2</td>\n",
       "      <td>5</td>\n",
       "      <td>5</td>\n",
       "      <td>5</td>\n",
       "      <td>2</td>\n",
       "      <td>2</td>\n",
       "      <td>2</td>\n",
       "      <td>2</td>\n",
       "      <td>2</td>\n",
       "      <td>5</td>\n",
       "      <td>3</td>\n",
       "      <td>1</td>\n",
       "      <td>4</td>\n",
       "      <td>2</td>\n",
       "      <td>11</td>\n",
       "      <td>9.0</td>\n",
       "      <td>neutral or dissatisfied</td>\n",
       "    </tr>\n",
       "    <tr>\n",
       "      <th>4</th>\n",
       "      <td>4</td>\n",
       "      <td>119299</td>\n",
       "      <td>Male</td>\n",
       "      <td>Loyal Customer</td>\n",
       "      <td>61</td>\n",
       "      <td>Business travel</td>\n",
       "      <td>Business</td>\n",
       "      <td>214</td>\n",
       "      <td>3</td>\n",
       "      <td>3</td>\n",
       "      <td>3</td>\n",
       "      <td>3</td>\n",
       "      <td>4</td>\n",
       "      <td>5</td>\n",
       "      <td>5</td>\n",
       "      <td>3</td>\n",
       "      <td>3</td>\n",
       "      <td>4</td>\n",
       "      <td>4</td>\n",
       "      <td>3</td>\n",
       "      <td>3</td>\n",
       "      <td>3</td>\n",
       "      <td>0</td>\n",
       "      <td>0.0</td>\n",
       "      <td>satisfied</td>\n",
       "    </tr>\n",
       "  </tbody>\n",
       "</table>\n",
       "</div>"
      ],
      "text/plain": [
       "   Unnamed: 0      id  Gender      Customer Type  Age   Type of Travel  \\\n",
       "0           0   70172    Male     Loyal Customer   13  Personal Travel   \n",
       "1           1    5047    Male  disloyal Customer   25  Business travel   \n",
       "2           2  110028  Female     Loyal Customer   26  Business travel   \n",
       "3           3   24026  Female     Loyal Customer   25  Business travel   \n",
       "4           4  119299    Male     Loyal Customer   61  Business travel   \n",
       "\n",
       "      Class  Flight Distance  Inflight wifi service  \\\n",
       "0  Eco Plus              460                      3   \n",
       "1  Business              235                      3   \n",
       "2  Business             1142                      2   \n",
       "3  Business              562                      2   \n",
       "4  Business              214                      3   \n",
       "\n",
       "   Departure/Arrival time convenient  Ease of Online booking  Gate location  \\\n",
       "0                                  4                       3              1   \n",
       "1                                  2                       3              3   \n",
       "2                                  2                       2              2   \n",
       "3                                  5                       5              5   \n",
       "4                                  3                       3              3   \n",
       "\n",
       "   Food and drink  Online boarding  Seat comfort  Inflight entertainment  \\\n",
       "0               5                3             5                       5   \n",
       "1               1                3             1                       1   \n",
       "2               5                5             5                       5   \n",
       "3               2                2             2                       2   \n",
       "4               4                5             5                       3   \n",
       "\n",
       "   On-board service  Leg room service  Baggage handling  Checkin service  \\\n",
       "0                 4                 3                 4                4   \n",
       "1                 1                 5                 3                1   \n",
       "2                 4                 3                 4                4   \n",
       "3                 2                 5                 3                1   \n",
       "4                 3                 4                 4                3   \n",
       "\n",
       "   Inflight service  Cleanliness  Departure Delay in Minutes  \\\n",
       "0                 5            5                          25   \n",
       "1                 4            1                           1   \n",
       "2                 4            5                           0   \n",
       "3                 4            2                          11   \n",
       "4                 3            3                           0   \n",
       "\n",
       "   Arrival Delay in Minutes             satisfaction  \n",
       "0                      18.0  neutral or dissatisfied  \n",
       "1                       6.0  neutral or dissatisfied  \n",
       "2                       0.0                satisfied  \n",
       "3                       9.0  neutral or dissatisfied  \n",
       "4                       0.0                satisfied  "
      ]
     },
     "execution_count": 3,
     "metadata": {},
     "output_type": "execute_result"
    }
   ],
   "source": [
    "data = pd.read_csv('/kaggle/input/airline-passenger-satisfaction/train.csv')\n",
    "pd.set_option(\"display.max_columns\", None)\n",
    "print(\"Shape of the dataset is : \", data.shape)\n",
    "data.head()"
   ]
  },
  {
   "cell_type": "code",
   "execution_count": 4,
   "id": "d77f9456",
   "metadata": {
    "execution": {
     "iopub.execute_input": "2025-09-09T18:28:00.338274Z",
     "iopub.status.busy": "2025-09-09T18:28:00.337972Z",
     "iopub.status.idle": "2025-09-09T18:28:00.354524Z",
     "shell.execute_reply": "2025-09-09T18:28:00.353553Z"
    },
    "papermill": {
     "duration": 0.022836,
     "end_time": "2025-09-09T18:28:00.355802",
     "exception": false,
     "start_time": "2025-09-09T18:28:00.332966",
     "status": "completed"
    },
    "tags": []
   },
   "outputs": [],
   "source": [
    "data.drop(['Unnamed: 0', 'id'], axis=1, inplace=True)"
   ]
  },
  {
   "cell_type": "markdown",
   "id": "271a5bc7",
   "metadata": {
    "papermill": {
     "duration": 0.003587,
     "end_time": "2025-09-09T18:28:00.363561",
     "exception": false,
     "start_time": "2025-09-09T18:28:00.359974",
     "status": "completed"
    },
    "tags": []
   },
   "source": [
    "## Removing Nulls"
   ]
  },
  {
   "cell_type": "code",
   "execution_count": 5,
   "id": "12a28493",
   "metadata": {
    "execution": {
     "iopub.execute_input": "2025-09-09T18:28:00.372646Z",
     "iopub.status.busy": "2025-09-09T18:28:00.372367Z",
     "iopub.status.idle": "2025-09-09T18:28:00.403066Z",
     "shell.execute_reply": "2025-09-09T18:28:00.402339Z"
    },
    "papermill": {
     "duration": 0.037238,
     "end_time": "2025-09-09T18:28:00.404481",
     "exception": false,
     "start_time": "2025-09-09T18:28:00.367243",
     "status": "completed"
    },
    "tags": []
   },
   "outputs": [
    {
     "data": {
      "text/plain": [
       "Gender                                 0\n",
       "Customer Type                          0\n",
       "Age                                    0\n",
       "Type of Travel                         0\n",
       "Class                                  0\n",
       "Flight Distance                        0\n",
       "Inflight wifi service                  0\n",
       "Departure/Arrival time convenient      0\n",
       "Ease of Online booking                 0\n",
       "Gate location                          0\n",
       "Food and drink                         0\n",
       "Online boarding                        0\n",
       "Seat comfort                           0\n",
       "Inflight entertainment                 0\n",
       "On-board service                       0\n",
       "Leg room service                       0\n",
       "Baggage handling                       0\n",
       "Checkin service                        0\n",
       "Inflight service                       0\n",
       "Cleanliness                            0\n",
       "Departure Delay in Minutes             0\n",
       "Arrival Delay in Minutes             310\n",
       "satisfaction                           0\n",
       "dtype: int64"
      ]
     },
     "execution_count": 5,
     "metadata": {},
     "output_type": "execute_result"
    }
   ],
   "source": [
    "data.isnull().sum()"
   ]
  },
  {
   "cell_type": "code",
   "execution_count": 6,
   "id": "8e2f9ade",
   "metadata": {
    "execution": {
     "iopub.execute_input": "2025-09-09T18:28:00.413717Z",
     "iopub.status.busy": "2025-09-09T18:28:00.413448Z",
     "iopub.status.idle": "2025-09-09T18:28:01.232631Z",
     "shell.execute_reply": "2025-09-09T18:28:01.231820Z"
    },
    "papermill": {
     "duration": 0.825125,
     "end_time": "2025-09-09T18:28:01.233907",
     "exception": false,
     "start_time": "2025-09-09T18:28:00.408782",
     "status": "completed"
    },
    "tags": []
   },
   "outputs": [
    {
     "data": {
      "image/png": "[encoded data removed]",
      "text/plain": [
       "<Figure size 640x480 with 1 Axes>"
      ]
     },
     "metadata": {},
     "output_type": "display_data"
    },
    {
     "name": "stdout",
     "output_type": "stream",
     "text": [
      "Mean of Arrival Delay in Minutes is :  15.178678301832152\n"
     ]
    }
   ],
   "source": [
    "# Displaying nulls in plot\n",
    "\n",
    "sns.kdeplot(data= data, x='Arrival Delay in Minutes')\n",
    "plt.xlabel('Arrival Delay in Minutes')\n",
    "plt.xlim([0 , 200])\n",
    "plt.show()\n",
    "\n",
    "print(\"Mean of Arrival Delay in Minutes is : \", np.mean(data['Arrival Delay in Minutes']))"
   ]
  },
  {
   "cell_type": "code",
   "execution_count": 7,
   "id": "e59dc538",
   "metadata": {
    "execution": {
     "iopub.execute_input": "2025-09-09T18:28:01.244058Z",
     "iopub.status.busy": "2025-09-09T18:28:01.243767Z",
     "iopub.status.idle": "2025-09-09T18:28:01.250228Z",
     "shell.execute_reply": "2025-09-09T18:28:01.249432Z"
    },
    "papermill": {
     "duration": 0.013414,
     "end_time": "2025-09-09T18:28:01.252064",
     "exception": false,
     "start_time": "2025-09-09T18:28:01.238650",
     "status": "completed"
    },
    "tags": []
   },
   "outputs": [
    {
     "name": "stdout",
     "output_type": "stream",
     "text": [
      "Nulls in Arrival Delay in Minutes are :  0\n"
     ]
    }
   ],
   "source": [
    "data['Arrival Delay in Minutes'] = data['Arrival Delay in Minutes'].fillna(data['Arrival Delay in Minutes'].mean())\n",
    "print(\"Nulls in Arrival Delay in Minutes are : \", data['Arrival Delay in Minutes'].isnull().sum())"
   ]
  },
  {
   "cell_type": "markdown",
   "id": "6f6632ea",
   "metadata": {
    "papermill": {
     "duration": 0.004137,
     "end_time": "2025-09-09T18:28:01.261058",
     "exception": false,
     "start_time": "2025-09-09T18:28:01.256921",
     "status": "completed"
    },
    "tags": []
   },
   "source": [
    "## Encoding Target Variable"
   ]
  },
  {
   "cell_type": "code",
   "execution_count": 8,
   "id": "b1b96da3",
   "metadata": {
    "execution": {
     "iopub.execute_input": "2025-09-09T18:28:01.271554Z",
     "iopub.status.busy": "2025-09-09T18:28:01.271293Z",
     "iopub.status.idle": "2025-09-09T18:28:01.470823Z",
     "shell.execute_reply": "2025-09-09T18:28:01.470039Z"
    },
    "papermill": {
     "duration": 0.206005,
     "end_time": "2025-09-09T18:28:01.472258",
     "exception": false,
     "start_time": "2025-09-09T18:28:01.266253",
     "status": "completed"
    },
    "tags": []
   },
   "outputs": [],
   "source": [
    "# Encoding Target Values\n",
    "from sklearn.preprocessing import LabelEncoder\n",
    "\n",
    "le = LabelEncoder()\n",
    "data['satisfaction'] = le.fit_transform(data['satisfaction'])"
   ]
  },
  {
   "cell_type": "code",
   "execution_count": 9,
   "id": "916cbc4b",
   "metadata": {
    "execution": {
     "iopub.execute_input": "2025-09-09T18:28:01.482150Z",
     "iopub.status.busy": "2025-09-09T18:28:01.481859Z",
     "iopub.status.idle": "2025-09-09T18:28:01.507380Z",
     "shell.execute_reply": "2025-09-09T18:28:01.506447Z"
    },
    "papermill": {
     "duration": 0.032147,
     "end_time": "2025-09-09T18:28:01.508965",
     "exception": false,
     "start_time": "2025-09-09T18:28:01.476818",
     "status": "completed"
    },
    "tags": []
   },
   "outputs": [],
   "source": [
    "cat_col = data.select_dtypes(include=['object']).columns\n",
    "int_col = data.select_dtypes(include=['int64', 'float64']).columns"
   ]
  },
  {
   "cell_type": "markdown",
   "id": "ecaf8f39",
   "metadata": {
    "papermill": {
     "duration": 0.004108,
     "end_time": "2025-09-09T18:28:01.517963",
     "exception": false,
     "start_time": "2025-09-09T18:28:01.513855",
     "status": "completed"
    },
    "tags": []
   },
   "source": [
    "## Encoding Categorical Variables"
   ]
  },
  {
   "cell_type": "code",
   "execution_count": 10,
   "id": "333f3851",
   "metadata": {
    "execution": {
     "iopub.execute_input": "2025-09-09T18:28:01.527667Z",
     "iopub.status.busy": "2025-09-09T18:28:01.527353Z",
     "iopub.status.idle": "2025-09-09T18:28:01.532136Z",
     "shell.execute_reply": "2025-09-09T18:28:01.531214Z"
    },
    "papermill": {
     "duration": 0.011305,
     "end_time": "2025-09-09T18:28:01.533486",
     "exception": false,
     "start_time": "2025-09-09T18:28:01.522181",
     "status": "completed"
    },
    "tags": []
   },
   "outputs": [
    {
     "name": "stdout",
     "output_type": "stream",
     "text": [
      "Categorical Columns are : \n",
      "Index(['Gender', 'Customer Type', 'Type of Travel', 'Class'], dtype='object')\n",
      "\n",
      "Integer Columns are : \n",
      "Index(['Age', 'Flight Distance', 'Inflight wifi service',\n",
      "       'Departure/Arrival time convenient', 'Ease of Online booking',\n",
      "       'Gate location', 'Food and drink', 'Online boarding', 'Seat comfort',\n",
      "       'Inflight entertainment', 'On-board service', 'Leg room service',\n",
      "       'Baggage handling', 'Checkin service', 'Inflight service',\n",
      "       'Cleanliness', 'Departure Delay in Minutes', 'Arrival Delay in Minutes',\n",
      "       'satisfaction'],\n",
      "      dtype='object')\n"
     ]
    }
   ],
   "source": [
    "print(\"Categorical Columns are : \")\n",
    "print(cat_col)\n",
    "print()\n",
    "print(\"Integer Columns are : \")\n",
    "print(int_col)"
   ]
  },
  {
   "cell_type": "code",
   "execution_count": 11,
   "id": "19e5b9cb",
   "metadata": {
    "execution": {
     "iopub.execute_input": "2025-09-09T18:28:01.543791Z",
     "iopub.status.busy": "2025-09-09T18:28:01.543501Z",
     "iopub.status.idle": "2025-09-09T18:28:01.563847Z",
     "shell.execute_reply": "2025-09-09T18:28:01.562805Z"
    },
    "papermill": {
     "duration": 0.026804,
     "end_time": "2025-09-09T18:28:01.565108",
     "exception": false,
     "start_time": "2025-09-09T18:28:01.538304",
     "status": "completed"
    },
    "tags": []
   },
   "outputs": [
    {
     "name": "stdout",
     "output_type": "stream",
     "text": [
      "Unique Values in [Gender] are ['Male' 'Female']\n",
      "\n",
      "Unique Values in [Customer Type] are ['Loyal Customer' 'disloyal Customer']\n",
      "\n",
      "Unique Values in [Type of Travel] are ['Personal Travel' 'Business travel']\n",
      "\n",
      "Unique Values in [Class] are ['Eco Plus' 'Business' 'Eco']\n",
      "\n"
     ]
    }
   ],
   "source": [
    "for i in cat_col:\n",
    "    print(f\"Unique Values in [{i}] are {data[i].unique()}\")\n",
    "    print()"
   ]
  },
  {
   "cell_type": "code",
   "execution_count": 12,
   "id": "cdb56863",
   "metadata": {
    "execution": {
     "iopub.execute_input": "2025-09-09T18:28:01.575253Z",
     "iopub.status.busy": "2025-09-09T18:28:01.574974Z",
     "iopub.status.idle": "2025-09-09T18:28:01.685219Z",
     "shell.execute_reply": "2025-09-09T18:28:01.684497Z"
    },
    "papermill": {
     "duration": 0.116555,
     "end_time": "2025-09-09T18:28:01.686443",
     "exception": false,
     "start_time": "2025-09-09T18:28:01.569888",
     "status": "completed"
    },
    "tags": []
   },
   "outputs": [
    {
     "data": {
      "text/html": [
       "<div>\n",
       "<style scoped>\n",
       "    .dataframe tbody tr th:only-of-type {\n",
       "        vertical-align: middle;\n",
       "    }\n",
       "\n",
       "    .dataframe tbody tr th {\n",
       "        vertical-align: top;\n",
       "    }\n",
       "\n",
       "    .dataframe thead th {\n",
       "        text-align: right;\n",
       "    }\n",
       "</style>\n",
       "<table border=\"1\" class=\"dataframe\">\n",
       "  <thead>\n",
       "    <tr style=\"text-align: right;\">\n",
       "      <th></th>\n",
       "      <th>Gender_Male</th>\n",
       "      <th>Customer Type_disloyal Customer</th>\n",
       "      <th>Type of Travel_Personal Travel</th>\n",
       "      <th>Class_Eco</th>\n",
       "      <th>Class_Eco Plus</th>\n",
       "    </tr>\n",
       "  </thead>\n",
       "  <tbody>\n",
       "    <tr>\n",
       "      <th>0</th>\n",
       "      <td>1.0</td>\n",
       "      <td>0.0</td>\n",
       "      <td>1.0</td>\n",
       "      <td>0.0</td>\n",
       "      <td>1.0</td>\n",
       "    </tr>\n",
       "    <tr>\n",
       "      <th>1</th>\n",
       "      <td>1.0</td>\n",
       "      <td>1.0</td>\n",
       "      <td>0.0</td>\n",
       "      <td>0.0</td>\n",
       "      <td>0.0</td>\n",
       "    </tr>\n",
       "    <tr>\n",
       "      <th>2</th>\n",
       "      <td>0.0</td>\n",
       "      <td>0.0</td>\n",
       "      <td>0.0</td>\n",
       "      <td>0.0</td>\n",
       "      <td>0.0</td>\n",
       "    </tr>\n",
       "    <tr>\n",
       "      <th>3</th>\n",
       "      <td>0.0</td>\n",
       "      <td>0.0</td>\n",
       "      <td>0.0</td>\n",
       "      <td>0.0</td>\n",
       "      <td>0.0</td>\n",
       "    </tr>\n",
       "    <tr>\n",
       "      <th>4</th>\n",
       "      <td>1.0</td>\n",
       "      <td>0.0</td>\n",
       "      <td>0.0</td>\n",
       "      <td>0.0</td>\n",
       "      <td>0.0</td>\n",
       "    </tr>\n",
       "  </tbody>\n",
       "</table>\n",
       "</div>"
      ],
      "text/plain": [
       "   Gender_Male  Customer Type_disloyal Customer  \\\n",
       "0          1.0                              0.0   \n",
       "1          1.0                              1.0   \n",
       "2          0.0                              0.0   \n",
       "3          0.0                              0.0   \n",
       "4          1.0                              0.0   \n",
       "\n",
       "   Type of Travel_Personal Travel  Class_Eco  Class_Eco Plus  \n",
       "0                             1.0        0.0             1.0  \n",
       "1                             0.0        0.0             0.0  \n",
       "2                             0.0        0.0             0.0  \n",
       "3                             0.0        0.0             0.0  \n",
       "4                             0.0        0.0             0.0  "
      ]
     },
     "execution_count": 12,
     "metadata": {},
     "output_type": "execute_result"
    }
   ],
   "source": [
    "from sklearn.preprocessing import OneHotEncoder\n",
    "ohe = OneHotEncoder(drop='first', sparse_output=False)\n",
    "\n",
    "encoded_cols = ohe.fit_transform(data[cat_col])\n",
    "encoded_name = ohe.get_feature_names_out(cat_col)\n",
    "encoded_df = pd.DataFrame(encoded_cols, columns = encoded_name, index = data.index )\n",
    "\n",
    "encoded_df.head()"
   ]
  },
  {
   "cell_type": "code",
   "execution_count": 13,
   "id": "ca186269",
   "metadata": {
    "execution": {
     "iopub.execute_input": "2025-09-09T18:28:01.698247Z",
     "iopub.status.busy": "2025-09-09T18:28:01.697554Z",
     "iopub.status.idle": "2025-09-09T18:28:01.730246Z",
     "shell.execute_reply": "2025-09-09T18:28:01.729228Z"
    },
    "papermill": {
     "duration": 0.040119,
     "end_time": "2025-09-09T18:28:01.731483",
     "exception": false,
     "start_time": "2025-09-09T18:28:01.691364",
     "status": "completed"
    },
    "tags": []
   },
   "outputs": [
    {
     "data": {
      "text/html": [
       "<div>\n",
       "<style scoped>\n",
       "    .dataframe tbody tr th:only-of-type {\n",
       "        vertical-align: middle;\n",
       "    }\n",
       "\n",
       "    .dataframe tbody tr th {\n",
       "        vertical-align: top;\n",
       "    }\n",
       "\n",
       "    .dataframe thead th {\n",
       "        text-align: right;\n",
       "    }\n",
       "</style>\n",
       "<table border=\"1\" class=\"dataframe\">\n",
       "  <thead>\n",
       "    <tr style=\"text-align: right;\">\n",
       "      <th></th>\n",
       "      <th>Age</th>\n",
       "      <th>Flight Distance</th>\n",
       "      <th>Inflight wifi service</th>\n",
       "      <th>Departure/Arrival time convenient</th>\n",
       "      <th>Ease of Online booking</th>\n",
       "      <th>Gate location</th>\n",
       "      <th>Food and drink</th>\n",
       "      <th>Online boarding</th>\n",
       "      <th>Seat comfort</th>\n",
       "      <th>Inflight entertainment</th>\n",
       "      <th>On-board service</th>\n",
       "      <th>Leg room service</th>\n",
       "      <th>Baggage handling</th>\n",
       "      <th>Checkin service</th>\n",
       "      <th>Inflight service</th>\n",
       "      <th>Cleanliness</th>\n",
       "      <th>Departure Delay in Minutes</th>\n",
       "      <th>Arrival Delay in Minutes</th>\n",
       "      <th>satisfaction</th>\n",
       "      <th>Gender_Male</th>\n",
       "      <th>Customer Type_disloyal Customer</th>\n",
       "      <th>Type of Travel_Personal Travel</th>\n",
       "      <th>Class_Eco</th>\n",
       "      <th>Class_Eco Plus</th>\n",
       "    </tr>\n",
       "  </thead>\n",
       "  <tbody>\n",
       "    <tr>\n",
       "      <th>0</th>\n",
       "      <td>13</td>\n",
       "      <td>460</td>\n",
       "      <td>3</td>\n",
       "      <td>4</td>\n",
       "      <td>3</td>\n",
       "      <td>1</td>\n",
       "      <td>5</td>\n",
       "      <td>3</td>\n",
       "      <td>5</td>\n",
       "      <td>5</td>\n",
       "      <td>4</td>\n",
       "      <td>3</td>\n",
       "      <td>4</td>\n",
       "      <td>4</td>\n",
       "      <td>5</td>\n",
       "      <td>5</td>\n",
       "      <td>25</td>\n",
       "      <td>18.0</td>\n",
       "      <td>0</td>\n",
       "      <td>1.0</td>\n",
       "      <td>0.0</td>\n",
       "      <td>1.0</td>\n",
       "      <td>0.0</td>\n",
       "      <td>1.0</td>\n",
       "    </tr>\n",
       "    <tr>\n",
       "      <th>1</th>\n",
       "      <td>25</td>\n",
       "      <td>235</td>\n",
       "      <td>3</td>\n",
       "      <td>2</td>\n",
       "      <td>3</td>\n",
       "      <td>3</td>\n",
       "      <td>1</td>\n",
       "      <td>3</td>\n",
       "      <td>1</td>\n",
       "      <td>1</td>\n",
       "      <td>1</td>\n",
       "      <td>5</td>\n",
       "      <td>3</td>\n",
       "      <td>1</td>\n",
       "      <td>4</td>\n",
       "      <td>1</td>\n",
       "      <td>1</td>\n",
       "      <td>6.0</td>\n",
       "      <td>0</td>\n",
       "      <td>1.0</td>\n",
       "      <td>1.0</td>\n",
       "      <td>0.0</td>\n",
       "      <td>0.0</td>\n",
       "      <td>0.0</td>\n",
       "    </tr>\n",
       "    <tr>\n",
       "      <th>2</th>\n",
       "      <td>26</td>\n",
       "      <td>1142</td>\n",
       "      <td>2</td>\n",
       "      <td>2</td>\n",
       "      <td>2</td>\n",
       "      <td>2</td>\n",
       "      <td>5</td>\n",
       "      <td>5</td>\n",
       "      <td>5</td>\n",
       "      <td>5</td>\n",
       "      <td>4</td>\n",
       "      <td>3</td>\n",
       "      <td>4</td>\n",
       "      <td>4</td>\n",
       "      <td>4</td>\n",
       "      <td>5</td>\n",
       "      <td>0</td>\n",
       "      <td>0.0</td>\n",
       "      <td>1</td>\n",
       "      <td>0.0</td>\n",
       "      <td>0.0</td>\n",
       "      <td>0.0</td>\n",
       "      <td>0.0</td>\n",
       "      <td>0.0</td>\n",
       "    </tr>\n",
       "    <tr>\n",
       "      <th>3</th>\n",
       "      <td>25</td>\n",
       "      <td>562</td>\n",
       "      <td>2</td>\n",
       "      <td>5</td>\n",
       "      <td>5</td>\n",
       "      <td>5</td>\n",
       "      <td>2</td>\n",
       "      <td>2</td>\n",
       "      <td>2</td>\n",
       "      <td>2</td>\n",
       "      <td>2</td>\n",
       "      <td>5</td>\n",
       "      <td>3</td>\n",
       "      <td>1</td>\n",
       "      <td>4</td>\n",
       "      <td>2</td>\n",
       "      <td>11</td>\n",
       "      <td>9.0</td>\n",
       "      <td>0</td>\n",
       "      <td>0.0</td>\n",
       "      <td>0.0</td>\n",
       "      <td>0.0</td>\n",
       "      <td>0.0</td>\n",
       "      <td>0.0</td>\n",
       "    </tr>\n",
       "    <tr>\n",
       "      <th>4</th>\n",
       "      <td>61</td>\n",
       "      <td>214</td>\n",
       "      <td>3</td>\n",
       "      <td>3</td>\n",
       "      <td>3</td>\n",
       "      <td>3</td>\n",
       "      <td>4</td>\n",
       "      <td>5</td>\n",
       "      <td>5</td>\n",
       "      <td>3</td>\n",
       "      <td>3</td>\n",
       "      <td>4</td>\n",
       "      <td>4</td>\n",
       "      <td>3</td>\n",
       "      <td>3</td>\n",
       "      <td>3</td>\n",
       "      <td>0</td>\n",
       "      <td>0.0</td>\n",
       "      <td>1</td>\n",
       "      <td>1.0</td>\n",
       "      <td>0.0</td>\n",
       "      <td>0.0</td>\n",
       "      <td>0.0</td>\n",
       "      <td>0.0</td>\n",
       "    </tr>\n",
       "  </tbody>\n",
       "</table>\n",
       "</div>"
      ],
      "text/plain": [
       "   Age  Flight Distance  Inflight wifi service  \\\n",
       "0   13              460                      3   \n",
       "1   25              235                      3   \n",
       "2   26             1142                      2   \n",
       "3   25              562                      2   \n",
       "4   61              214                      3   \n",
       "\n",
       "   Departure/Arrival time convenient  Ease of Online booking  Gate location  \\\n",
       "0                                  4                       3              1   \n",
       "1                                  2                       3              3   \n",
       "2                                  2                       2              2   \n",
       "3                                  5                       5              5   \n",
       "4                                  3                       3              3   \n",
       "\n",
       "   Food and drink  Online boarding  Seat comfort  Inflight entertainment  \\\n",
       "0               5                3             5                       5   \n",
       "1               1                3             1                       1   \n",
       "2               5                5             5                       5   \n",
       "3               2                2             2                       2   \n",
       "4               4                5             5                       3   \n",
       "\n",
       "   On-board service  Leg room service  Baggage handling  Checkin service  \\\n",
       "0                 4                 3                 4                4   \n",
       "1                 1                 5                 3                1   \n",
       "2                 4                 3                 4                4   \n",
       "3                 2                 5                 3                1   \n",
       "4                 3                 4                 4                3   \n",
       "\n",
       "   Inflight service  Cleanliness  Departure Delay in Minutes  \\\n",
       "0                 5            5                          25   \n",
       "1                 4            1                           1   \n",
       "2                 4            5                           0   \n",
       "3                 4            2                          11   \n",
       "4                 3            3                           0   \n",
       "\n",
       "   Arrival Delay in Minutes  satisfaction  Gender_Male  \\\n",
       "0                      18.0             0          1.0   \n",
       "1                       6.0             0          1.0   \n",
       "2                       0.0             1          0.0   \n",
       "3                       9.0             0          0.0   \n",
       "4                       0.0             1          1.0   \n",
       "\n",
       "   Customer Type_disloyal Customer  Type of Travel_Personal Travel  Class_Eco  \\\n",
       "0                              0.0                             1.0        0.0   \n",
       "1                              1.0                             0.0        0.0   \n",
       "2                              0.0                             0.0        0.0   \n",
       "3                              0.0                             0.0        0.0   \n",
       "4                              0.0                             0.0        0.0   \n",
       "\n",
       "   Class_Eco Plus  \n",
       "0             1.0  \n",
       "1             0.0  \n",
       "2             0.0  \n",
       "3             0.0  \n",
       "4             0.0  "
      ]
     },
     "execution_count": 13,
     "metadata": {},
     "output_type": "execute_result"
    }
   ],
   "source": [
    "data = data.drop(columns=cat_col)\n",
    "data = pd.concat([data, encoded_df], axis=1)\n",
    "data.head()"
   ]
  },
  {
   "cell_type": "markdown",
   "id": "e1885f31",
   "metadata": {
    "papermill": {
     "duration": 0.004358,
     "end_time": "2025-09-09T18:28:01.740788",
     "exception": false,
     "start_time": "2025-09-09T18:28:01.736430",
     "status": "completed"
    },
    "tags": []
   },
   "source": [
    "## Spliting the Dataset"
   ]
  },
  {
   "cell_type": "code",
   "execution_count": 14,
   "id": "a231b988",
   "metadata": {
    "execution": {
     "iopub.execute_input": "2025-09-09T18:28:01.751067Z",
     "iopub.status.busy": "2025-09-09T18:28:01.750783Z",
     "iopub.status.idle": "2025-09-09T18:28:01.883930Z",
     "shell.execute_reply": "2025-09-09T18:28:01.883050Z"
    },
    "papermill": {
     "duration": 0.139938,
     "end_time": "2025-09-09T18:28:01.885388",
     "exception": false,
     "start_time": "2025-09-09T18:28:01.745450",
     "status": "completed"
    },
    "tags": []
   },
   "outputs": [],
   "source": [
    "from sklearn.model_selection import train_test_split\n",
    "X = data.drop(['satisfaction'], axis=1)\n",
    "Y = data['satisfaction']\n",
    "\n",
    "X_train, X_test, y_train, y_test = train_test_split(X, Y, test_size=0.2, random_state=42)"
   ]
  },
  {
   "cell_type": "markdown",
   "id": "c6882ce2",
   "metadata": {
    "papermill": {
     "duration": 0.004485,
     "end_time": "2025-09-09T18:28:01.894924",
     "exception": false,
     "start_time": "2025-09-09T18:28:01.890439",
     "status": "completed"
    },
    "tags": []
   },
   "source": [
    "## Scaling Values"
   ]
  },
  {
   "cell_type": "code",
   "execution_count": 15,
   "id": "fdcd6d39",
   "metadata": {
    "execution": {
     "iopub.execute_input": "2025-09-09T18:28:01.905131Z",
     "iopub.status.busy": "2025-09-09T18:28:01.904886Z",
     "iopub.status.idle": "2025-09-09T18:28:01.947134Z",
     "shell.execute_reply": "2025-09-09T18:28:01.946329Z"
    },
    "papermill": {
     "duration": 0.049052,
     "end_time": "2025-09-09T18:28:01.948583",
     "exception": false,
     "start_time": "2025-09-09T18:28:01.899531",
     "status": "completed"
    },
    "tags": []
   },
   "outputs": [],
   "source": [
    "from sklearn.preprocessing import StandardScaler\n",
    "std = StandardScaler()\n",
    "X_train = std.fit_transform(X_train)\n",
    "X_test = std.transform(X_test)"
   ]
  },
  {
   "cell_type": "markdown",
   "id": "75877e18",
   "metadata": {
    "papermill": {
     "duration": 0.004316,
     "end_time": "2025-09-09T18:28:01.958496",
     "exception": false,
     "start_time": "2025-09-09T18:28:01.954180",
     "status": "completed"
    },
    "tags": []
   },
   "source": [
    "# Model Creation"
   ]
  },
  {
   "cell_type": "markdown",
   "id": "2fc23e2b",
   "metadata": {
    "papermill": {
     "duration": 0.00435,
     "end_time": "2025-09-09T18:28:01.967434",
     "exception": false,
     "start_time": "2025-09-09T18:28:01.963084",
     "status": "completed"
    },
    "tags": []
   },
   "source": [
    "## Logistic Regression"
   ]
  },
  {
   "cell_type": "code",
   "execution_count": 16,
   "id": "e5ac57ee",
   "metadata": {
    "execution": {
     "iopub.execute_input": "2025-09-09T18:28:01.977543Z",
     "iopub.status.busy": "2025-09-09T18:28:01.977202Z",
     "iopub.status.idle": "2025-09-09T18:28:02.227786Z",
     "shell.execute_reply": "2025-09-09T18:28:02.227274Z"
    },
    "papermill": {
     "duration": 0.257312,
     "end_time": "2025-09-09T18:28:02.229210",
     "exception": false,
     "start_time": "2025-09-09T18:28:01.971898",
     "status": "completed"
    },
    "tags": []
   },
   "outputs": [],
   "source": [
    "from sklearn.linear_model import LogisticRegression\n",
    "\n",
    "lr = LogisticRegression()\n",
    "lr.fit(X_train, y_train)\n",
    "y_pred_lr = lr.predict(X_test)"
   ]
  },
  {
   "cell_type": "code",
   "execution_count": 17,
   "id": "3e9b5268",
   "metadata": {
    "execution": {
     "iopub.execute_input": "2025-09-09T18:28:02.243248Z",
     "iopub.status.busy": "2025-09-09T18:28:02.242977Z",
     "iopub.status.idle": "2025-09-09T18:28:02.267571Z",
     "shell.execute_reply": "2025-09-09T18:28:02.266684Z"
    },
    "papermill": {
     "duration": 0.033,
     "end_time": "2025-09-09T18:28:02.268834",
     "exception": false,
     "start_time": "2025-09-09T18:28:02.235834",
     "status": "completed"
    },
    "tags": []
   },
   "outputs": [
    {
     "name": "stdout",
     "output_type": "stream",
     "text": [
      "Accuracy score is :  87.65218228189211\n",
      "Accuracy score is :  0.8733348644924208\n",
      "Accuracy score is :  0.8386634318482576\n"
     ]
    }
   ],
   "source": [
    "from sklearn.metrics import accuracy_score, f1_score, precision_score, recall_score, roc_auc_score, confusion_matrix\n",
    "\n",
    "acc_lr = accuracy_score(y_pred_lr, y_test)\n",
    "print(\"Accuracy score is : \", acc_lr*100)\n",
    "\n",
    "recal_lr = recall_score(y_pred_lr, y_test)\n",
    "print(\"Accuracy score is : \", recal_lr)\n",
    "\n",
    "pre_lr = precision_score(y_pred_lr, y_test)\n",
    "print(\"Accuracy score is : \", pre_lr)"
   ]
  },
  {
   "cell_type": "code",
   "execution_count": 18,
   "id": "2fc7cc40",
   "metadata": {
    "execution": {
     "iopub.execute_input": "2025-09-09T18:28:02.284862Z",
     "iopub.status.busy": "2025-09-09T18:28:02.284584Z",
     "iopub.status.idle": "2025-09-09T18:28:02.425714Z",
     "shell.execute_reply": "2025-09-09T18:28:02.424971Z"
    },
    "papermill": {
     "duration": 0.150445,
     "end_time": "2025-09-09T18:28:02.427188",
     "exception": false,
     "start_time": "2025-09-09T18:28:02.276743",
     "status": "completed"
    },
    "tags": []
   },
   "outputs": [
    {
     "data": {
      "image/png": "[encoded data removed]",
      "text/plain": [
       "<Figure size 640x480 with 2 Axes>"
      ]
     },
     "metadata": {},
     "output_type": "display_data"
    }
   ],
   "source": [
    "cm_lr = confusion_matrix(y_pred_lr, y_test)\n",
    "sns.heatmap(cm_lr, annot=True, fmt='d', xticklabels=lr.classes_, yticklabels=lr.classes_)\n",
    "plt.xlabel(\"Predicted\")\n",
    "plt.ylabel(\"Actual\")\n",
    "plt.title(\"Logistic Regression - Confusion Matrix\")\n",
    "plt.show()"
   ]
  },
  {
   "cell_type": "markdown",
   "id": "f4af7ed2",
   "metadata": {
    "papermill": {
     "duration": 0.005832,
     "end_time": "2025-09-09T18:28:02.438667",
     "exception": false,
     "start_time": "2025-09-09T18:28:02.432835",
     "status": "completed"
    },
    "tags": []
   },
   "source": [
    "## Decision Tree"
   ]
  },
  {
   "cell_type": "code",
   "execution_count": 19,
   "id": "3248944a",
   "metadata": {
    "execution": {
     "iopub.execute_input": "2025-09-09T18:28:02.450060Z",
     "iopub.status.busy": "2025-09-09T18:28:02.449779Z",
     "iopub.status.idle": "2025-09-09T18:28:03.144795Z",
     "shell.execute_reply": "2025-09-09T18:28:03.143999Z"
    },
    "papermill": {
     "duration": 0.702398,
     "end_time": "2025-09-09T18:28:03.146241",
     "exception": false,
     "start_time": "2025-09-09T18:28:02.443843",
     "status": "completed"
    },
    "tags": []
   },
   "outputs": [],
   "source": [
    "from sklearn.tree import DecisionTreeClassifier\n",
    "\n",
    "dt = DecisionTreeClassifier(random_state=42)\n",
    "dt.fit(X_train, y_train)\n",
    "y_pred_dt = dt.predict(X_test)"
   ]
  },
  {
   "cell_type": "code",
   "execution_count": 20,
   "id": "c49201a5",
   "metadata": {
    "execution": {
     "iopub.execute_input": "2025-09-09T18:28:03.157787Z",
     "iopub.status.busy": "2025-09-09T18:28:03.157510Z",
     "iopub.status.idle": "2025-09-09T18:28:03.177624Z",
     "shell.execute_reply": "2025-09-09T18:28:03.176555Z"
    },
    "papermill": {
     "duration": 0.027377,
     "end_time": "2025-09-09T18:28:03.178982",
     "exception": false,
     "start_time": "2025-09-09T18:28:03.151605",
     "status": "completed"
    },
    "tags": []
   },
   "outputs": [
    {
     "name": "stdout",
     "output_type": "stream",
     "text": [
      "Accuracy score is :  94.51421971993648\n",
      "Accuracy score is :  0.9341730558598028\n",
      "Accuracy score is :  0.9405602117335686\n"
     ]
    }
   ],
   "source": [
    "acc_dt = accuracy_score(y_pred_dt, y_test)\n",
    "print(\"Accuracy score is : \", acc_dt*100)\n",
    "\n",
    "recal_dt = recall_score(y_pred_dt, y_test)\n",
    "print(\"Accuracy score is : \", recal_dt)\n",
    "\n",
    "pre_dt = precision_score(y_pred_dt, y_test)\n",
    "print(\"Accuracy score is : \", pre_dt)"
   ]
  },
  {
   "cell_type": "code",
   "execution_count": 21,
   "id": "bb70093c",
   "metadata": {
    "execution": {
     "iopub.execute_input": "2025-09-09T18:28:03.190610Z",
     "iopub.status.busy": "2025-09-09T18:28:03.190355Z",
     "iopub.status.idle": "2025-09-09T18:28:03.318832Z",
     "shell.execute_reply": "2025-09-09T18:28:03.318078Z"
    },
    "papermill": {
     "duration": 0.135599,
     "end_time": "2025-09-09T18:28:03.319977",
     "exception": false,
     "start_time": "2025-09-09T18:28:03.184378",
     "status": "completed"
    },
    "tags": []
   },
   "outputs": [
    {
     "data": {
      "image/png": "[encoded data removed]",
      "text/plain": [
       "<Figure size 640x480 with 2 Axes>"
      ]
     },
     "metadata": {},
     "output_type": "display_data"
    }
   ],
   "source": [
    "cm_dt = confusion_matrix(y_pred_dt, y_test)\n",
    "sns.heatmap(cm_dt, annot=True, fmt='d', xticklabels=dt.classes_, yticklabels=dt.classes_)\n",
    "plt.xlabel(\"Predicted\")\n",
    "plt.ylabel(\"Actual\")\n",
    "plt.title(\"Decision Tree - Confusion Matrix\")\n",
    "plt.show()"
   ]
  },
  {
   "cell_type": "markdown",
   "id": "097307a5",
   "metadata": {
    "papermill": {
     "duration": 0.005172,
     "end_time": "2025-09-09T18:28:03.330935",
     "exception": false,
     "start_time": "2025-09-09T18:28:03.325763",
     "status": "completed"
    },
    "tags": []
   },
   "source": [
    "`Decision Tree` must be selected as it has higher accuracy and missclassifies fewer data points that `Logistic Regression`. "
   ]
  }
 ],
 "metadata": {
  "kaggle": {
   "accelerator": "none",
   "dataSources": [
    {
     "datasetId": 6012,
     "sourceId": 1733506,
     "sourceType": "datasetVersion"
    },
    {
     "datasetId": 522275,
     "sourceId": 959195,
     "sourceType": "datasetVersion"
    }
   ],
   "dockerImageVersionId": 31089,
   "isGpuEnabled": false,
   "isInternetEnabled": true,
   "language": "python",
   "sourceType": "notebook"
  },
  "kernelspec": {
   "display_name": "Python 3",
   "language": "python",
   "name": "python3"
  },
  "language_info": {
   "codemirror_mode": {
    "name": "ipython",
    "version": 3
   },
   "file_extension": ".py",
   "mimetype": "text/x-python",
   "name": "python",
   "nbconvert_exporter": "python",
   "pygments_lexer": "ipython3",
   "version": "3.11.13"
  },
  "papermill": {
   "default_parameters": {},
   "duration": 12.110342,
   "end_time": "2025-09-09T18:28:03.955245",
   "environment_variables": {},
   "exception": null,
   "input_path": "__notebook__.ipynb",
   "output_path": "__notebook__.ipynb",
   "parameters": {},
   "start_time": "2025-09-09T18:27:51.844903",
   "version": "2.6.0"
  }
 },
 "nbformat": 4,
 "nbformat_minor": 5
}
