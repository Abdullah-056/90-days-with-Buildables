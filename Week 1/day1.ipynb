{
 "cells": [
  {
   "cell_type": "markdown",
   "id": "cde3b971",
   "metadata": {},
   "source": [
    "# Week 1"
   ]
  },
  {
   "cell_type": "markdown",
   "id": "a9805168",
   "metadata": {},
   "source": [
    "Write a program that takes two numbers from the user and prints their sum."
   ]
  },
  {
   "cell_type": "code",
   "execution_count": 1,
   "id": "2ce81037",
   "metadata": {},
   "outputs": [
    {
     "name": "stdout",
     "output_type": "stream",
     "text": [
      "The output is 6\n"
     ]
    }
   ],
   "source": [
    "a = int(input(\"Enter First Number = \"))\n",
    "b = int(input(\"Enter Second Number = \"))\n",
    "print(\"The output is\",a+b)"
   ]
  },
  {
   "cell_type": "markdown",
   "id": "0844214b",
   "metadata": {},
   "source": [
    "Write a program to calculate the area of a circle given its radius."
   ]
  },
  {
   "cell_type": "code",
   "execution_count": 6,
   "id": "64052faa",
   "metadata": {},
   "outputs": [
    {
     "name": "stdout",
     "output_type": "stream",
     "text": [
      "The area of the circle is  78.57142857142857\n"
     ]
    }
   ],
   "source": [
    "rad = float(input('Enter radius of the circle = '))\n",
    "print(\"The area of the circle is \",(22/7)*(rad)**2)"
   ]
  },
  {
   "cell_type": "markdown",
   "id": "6f8cb800",
   "metadata": {},
   "source": [
    "Write a program that checks if a number is even or odd."
   ]
  },
  {
   "cell_type": "code",
   "execution_count": 8,
   "id": "74c8d883",
   "metadata": {},
   "outputs": [
    {
     "name": "stdout",
     "output_type": "stream",
     "text": [
      "6  is an even number\n"
     ]
    }
   ],
   "source": [
    "num = int(input(\"Enter a Number = \"))\n",
    "if num%2 == 0:\n",
    "    print(num, \" is an even number\")\n",
    "else:\n",
    "    print(num, \" is an odd number\")"
   ]
  },
  {
   "cell_type": "markdown",
   "id": "fce1b6b5",
   "metadata": {},
   "source": [
    "Write a program that performs basic arithmetic operations (addition, subtraction, multiplication, division) based on user input."
   ]
  },
  {
   "cell_type": "code",
   "execution_count": 10,
   "id": "b954f6f3",
   "metadata": {},
   "outputs": [
    {
     "name": "stdout",
     "output_type": "stream",
     "text": [
      "The result is  0.5\n"
     ]
    }
   ],
   "source": [
    "a = int(input(\"Enter First Number = \"))\n",
    "b = int(input(\"Enter Second Number = \"))\n",
    "op = input(\"Enter the operator (+,-,*,/) = \")\n",
    "if op == '+':\n",
    "    res = a+b\n",
    "elif op == '-':\n",
    "    res = a-b\n",
    "elif op == '*':\n",
    "    res = a*b\n",
    "else:\n",
    "    res = a/b\n",
    "\n",
    "print('The result is ',res)\n"
   ]
  },
  {
   "cell_type": "markdown",
   "id": "b2b12a86",
   "metadata": {},
   "source": [
    "Write a program to find the largest of three numbers."
   ]
  },
  {
   "cell_type": "code",
   "execution_count": 13,
   "id": "d9f2700f",
   "metadata": {},
   "outputs": [
    {
     "name": "stdout",
     "output_type": "stream",
     "text": [
      "The biggest no is b which is  15\n"
     ]
    }
   ],
   "source": [
    "a , b, c = 7, 15, 10\n",
    "if a>b and a>c:\n",
    "    print(\"The biggest no is a which is \",a)\n",
    "elif b>a and b>c:\n",
    "    print(\"The biggest no is b which is \",b)\n",
    "else:\n",
    "    print(\"The biggest no is c which si \",a)"
   ]
  },
  {
   "cell_type": "markdown",
   "id": "b3e72ddd",
   "metadata": {},
   "source": [
    "Write a program that takes a string from the user and prints it in reverse"
   ]
  },
  {
   "cell_type": "code",
   "execution_count": 18,
   "id": "ee622cd6",
   "metadata": {},
   "outputs": [
    {
     "name": "stdout",
     "output_type": "stream",
     "text": [
      "The opposite of  hello  is  olleh\n"
     ]
    }
   ],
   "source": [
    "name = \"hello\"\n",
    "rev = name[::-1]\n",
    "print(\"The opposite of \",name,\" is \",rev)"
   ]
  },
  {
   "cell_type": "markdown",
   "id": "d81bfa93",
   "metadata": {},
   "source": [
    "Write a program that counts the number of vowels in a given string."
   ]
  },
  {
   "cell_type": "code",
   "execution_count": 20,
   "id": "74766e3e",
   "metadata": {},
   "outputs": [
    {
     "name": "stdout",
     "output_type": "stream",
     "text": [
      "No. of Vowels in  Moneka  are  3\n"
     ]
    }
   ],
   "source": [
    "name = \"Moneka\"\n",
    "count = 0\n",
    "for a in name:\n",
    "    if a in ['a','e','i','o','u']:\n",
    "        count = count + 1\n",
    "\n",
    "print('No. of Vowels in ',name,\" are \",count)"
   ]
  },
  {
   "cell_type": "markdown",
   "id": "53b71486",
   "metadata": {},
   "source": [
    "Write a program to print the Fibonacci sequence up to n terms."
   ]
  },
  {
   "cell_type": "code",
   "execution_count": 24,
   "id": "8f675529",
   "metadata": {},
   "outputs": [
    {
     "name": "stdout",
     "output_type": "stream",
     "text": [
      "1 1 2 3 5 "
     ]
    }
   ],
   "source": [
    "# 1, 1, 2, 3, 5, 8, 13\n",
    "def fib(num):\n",
    "    if num == 0 or num == 1:\n",
    "        return 1\n",
    "    else:\n",
    "        return fib(num-1) + fib(num-2)\n",
    "    \n",
    "number = 5\n",
    "for i in range(number):\n",
    "    print(fib(i), end=' ')\n"
   ]
  },
  {
   "cell_type": "markdown",
   "id": "ef392500",
   "metadata": {},
   "source": [
    "Write a program to check if a given string is a palindrome"
   ]
  },
  {
   "cell_type": "code",
   "execution_count": 29,
   "id": "7920f183",
   "metadata": {},
   "outputs": [
    {
     "name": "stdout",
     "output_type": "stream",
     "text": [
      "racecar  is a Palindrome\n"
     ]
    }
   ],
   "source": [
    "a = 'racecar'\n",
    "b='python'\n",
    "\n",
    "word = a\n",
    "rev = word[::-1]\n",
    "length = len(word)\n",
    "for i in range(length):\n",
    "    if word[i] == rev[i]:\n",
    "        length = length - 1\n",
    "\n",
    "if length == 0:\n",
    "    print(word,\" is a Palindrome\")\n",
    "else:\n",
    "    print(word,\" is not a Palindrome\")"
   ]
  }
 ],
 "metadata": {
  "kernelspec": {
   "display_name": "MLenv",
   "language": "python",
   "name": "python3"
  },
  "language_info": {
   "codemirror_mode": {
    "name": "ipython",
    "version": 3
   },
   "file_extension": ".py",
   "mimetype": "text/x-python",
   "name": "python",
   "nbconvert_exporter": "python",
   "pygments_lexer": "ipython3",
   "version": "3.12.8"
  }
 },
 "nbformat": 4,
 "nbformat_minor": 5
}
