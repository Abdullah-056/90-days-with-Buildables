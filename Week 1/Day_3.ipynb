{
 "cells": [
  {
   "cell_type": "markdown",
   "id": "1886a55d",
   "metadata": {},
   "source": [
    "# Day 3"
   ]
  },
  {
   "cell_type": "markdown",
   "id": "8946a80c",
   "metadata": {},
   "source": [
    "Use Recusursive function to calculate the factorial of a given number."
   ]
  },
  {
   "cell_type": "code",
   "execution_count": 4,
   "id": "03886cac",
   "metadata": {},
   "outputs": [
    {
     "name": "stdout",
     "output_type": "stream",
     "text": [
      "The Factorial of 5 is 120\n"
     ]
    }
   ],
   "source": [
    "def func(num):\n",
    "    if num == 0 or num==1:\n",
    "        return 1\n",
    "    else:\n",
    "        return num * func(num-1)\n",
    "number = 5\n",
    "print(f\"The Factorial of {number} is {func(number)}\")"
   ]
  },
  {
   "cell_type": "markdown",
   "id": "099ed89a",
   "metadata": {},
   "source": [
    "Write a function that takes two sorted arrays and mereg them in a single sorted array. "
   ]
  },
  {
   "cell_type": "code",
   "execution_count": 31,
   "id": "4dd7c8d5",
   "metadata": {},
   "outputs": [
    {
     "name": "stdout",
     "output_type": "stream",
     "text": [
      "None\n",
      "[1, 2, 3, 4, 5, 6]\n"
     ]
    }
   ],
   "source": [
    "def fun(arr1, arr2):\n",
    "    new = []\n",
    "    small = arr1[1]\n",
    "    for i in range(len(arr1)):\n",
    "        for j in range(len(arr2)):\n",
    "            small = arr1[i]\n",
    "            if arr1[i] < arr2[j]:\n",
    "                small = arr1[i]\n",
    "            else:\n",
    "                small = arr2[j]\n",
    "\n",
    "            new.append(small)\n",
    "\n",
    "\n",
    "ar1 = [1,3,5]\n",
    "ar2 = [2,4,6]\n",
    "print(fun(ar1,ar2))\n",
    "\n",
    "# Low-code: merge two sorted arrays\n",
    "def merge_sorted_arrays(arr1, arr2):\n",
    "    return sorted(arr1 + arr2)\n",
    "\n",
    "ar1 = [1, 3, 5]\n",
    "ar2 = [2, 4, 6]\n",
    "print(merge_sorted_arrays(ar1, ar2))  # Output: [1, 2, 3, 4, 5, 6]"
   ]
  },
  {
   "cell_type": "markdown",
   "id": "184ec3ea",
   "metadata": {},
   "source": [
    "Write a program to reverse a singly-linked list.\n",
    "\n",
    "Expected output: If the input linked list is 1 -> 2 -> 3 -> 4 -> 5, the output should be 5 -> 4 -> 3 -> 2 -> 1."
   ]
  },
  {
   "cell_type": "code",
   "execution_count": 41,
   "id": "f6751108",
   "metadata": {},
   "outputs": [
    {
     "name": "stdout",
     "output_type": "stream",
     "text": [
      "Original linked list:\n",
      "1 2 1 \n",
      "Reversed linked list:\n",
      "1 2 1 \n"
     ]
    }
   ],
   "source": [
    "class Node:\n",
    "    def __init__(self, data):\n",
    "        self.data = data\n",
    "        self.next = None\n",
    "\n",
    "# Create linked list: 1 -> 2 -> 1\n",
    "head = Node(1)\n",
    "head.next = Node(2)\n",
    "head.next.next = Node(1)\n",
    "\n",
    "# Function to print linked list\n",
    "def print_linked_list(head):\n",
    "    temp = head\n",
    "    while temp:\n",
    "        print(temp.data, end=' ')\n",
    "        temp = temp.next\n",
    "    print()\n",
    "\n",
    "print(\"Original linked list:\")\n",
    "print_linked_list(head)\n",
    "\n",
    "# Reverse the linked list\n",
    "def reverse_linked_list(head):\n",
    "    prev = None\n",
    "    curr = head\n",
    "    while curr:\n",
    "        next_node = curr.next\n",
    "        curr.next = prev\n",
    "        prev = curr\n",
    "        curr = next_node\n",
    "    return prev\n",
    "\n",
    "reversed_head = reverse_linked_list(head)\n",
    "\n",
    "print(\"Reversed linked list:\")\n",
    "print_linked_list(reversed_head)\n"
   ]
  },
  {
   "cell_type": "markdown",
   "id": "6cb2c4c7",
   "metadata": {},
   "source": [
    "Write a generator function that produces Fibonacci numbers using yield."
   ]
  },
  {
   "cell_type": "code",
   "execution_count": 9,
   "id": "39995c81",
   "metadata": {},
   "outputs": [
    {
     "name": "stdout",
     "output_type": "stream",
     "text": [
      "0 1 1 2 3 5 8 13 21 34 "
     ]
    }
   ],
   "source": [
    "def fib(n):\n",
    "    a = 0\n",
    "    b = 1\n",
    "    for _ in range(n):\n",
    "        yield a\n",
    "        a, b = b, a + b\n",
    "\n",
    "for i in fib(10):\n",
    "    print(i, end = ' ')"
   ]
  },
  {
   "cell_type": "markdown",
   "id": "9d197c53",
   "metadata": {},
   "source": [
    "Write a program to find the longest palindromic substring within a given string.\n",
    "\n",
    "Expected output: If the input string is \"babad\", the output should be \"bab\" or \"aba\". If the input string is \"cbbd\", the output should be \"bb\"."
   ]
  },
  {
   "cell_type": "code",
   "execution_count": 21,
   "id": "4fd62c0d",
   "metadata": {},
   "outputs": [
    {
     "name": "stdout",
     "output_type": "stream",
     "text": [
      "aba\n"
     ]
    }
   ],
   "source": [
    "code = 'abad'\n",
    "res = ''\n",
    "for i in range(len(code)):\n",
    "    for j in range(i+1, len(code)+1):\n",
    "        substr = code[i:j]\n",
    "        if substr == substr[::-1] and len(substr) > len(res):\n",
    "            res = substr\n",
    "print(res)\n"
   ]
  },
  {
   "cell_type": "markdown",
   "id": "278e8af3",
   "metadata": {},
   "source": [
    "Write a program to calculate the minimum number of operations (insertions, deletions, or substitutions) required to transform one string into another.\n",
    "\n",
    "Expected output: If the two input strings are \"kitten\" and \"sitting\", the output should be 3."
   ]
  },
  {
   "cell_type": "code",
   "execution_count": 28,
   "id": "b832e4ca",
   "metadata": {},
   "outputs": [
    {
     "name": "stdout",
     "output_type": "stream",
     "text": [
      "4  words are present and are  ['i', 't', 't', 'n']\n",
      "Words to be added are  ['s', 'g']\n"
     ]
    }
   ],
   "source": [
    "s1 = 'kitten'\n",
    "s2 = 'sitting'\n",
    "count = 0\n",
    "add = []\n",
    "for i in s1:\n",
    "    for j in s2:\n",
    "        if i == j:\n",
    "            count += 1\n",
    "            add.append(i)\n",
    "            j=1\n",
    "        if j==1:\n",
    "            j == 0\n",
    "            break\n",
    "        \n",
    "print(count, ' words are present and are ',add)\n",
    "nott = []\n",
    "for i in s2:\n",
    "    if i not in add:\n",
    "        nott.append(i)\n",
    "\n",
    "print('Words to be added are ',nott)\n"
   ]
  },
  {
   "cell_type": "markdown",
   "id": "3c1b43a8",
   "metadata": {},
   "source": [
    "Write a program to find the maximum sum of a contiguous subarray within a given array.\n",
    "\n",
    "Expected output: If the input array is [-2, 1, -3, 4, -1, 2, 1, -5, 4], the output should be 6, as the maximum subarray is [4, -1, 2, 1]."
   ]
  },
  {
   "cell_type": "code",
   "execution_count": 39,
   "id": "ed61be12",
   "metadata": {},
   "outputs": [
    {
     "name": "stdout",
     "output_type": "stream",
     "text": [
      "[4, -1, 2, 1]\n",
      "6\n"
     ]
    }
   ],
   "source": [
    "\n",
    "arr = [-2, 1, -3, 4, -1, 2, 1, -5, 4]\n",
    "minn = 0\n",
    "maxx = 0\n",
    "target = arr[0]\n",
    "for i in range(len(arr)):\n",
    "    for j in range(i+1, len(arr)+1):\n",
    "        full = sum(arr[i:j])\n",
    "        if full > target:\n",
    "            minn, maxx = i, j\n",
    "            target = full\n",
    "\n",
    "print(arr[minn:maxx])\n",
    "print(sum(arr[minn:maxx]))"
   ]
  },
  {
   "cell_type": "markdown",
   "id": "fe31704e",
   "metadata": {},
   "source": [
    "Write a program to determine if a given linked list is a palindrome.\n",
    "\n",
    "Expected output: If the linked list is 1 -> 2 -> 3 -> 2 -> 1, the output should be \"The linked list is a palindrome.\" If the linked list is 1 -> 2 -> 3 -> 4 -> 5, the output should be \"The linked list is not a palindrome.\""
   ]
  },
  {
   "cell_type": "code",
   "execution_count": 42,
   "id": "d4597f2c",
   "metadata": {},
   "outputs": [
    {
     "name": "stdout",
     "output_type": "stream",
     "text": [
      "Original linked list:\n",
      "1 2 1 \n",
      "The linked list is a palindrome.\n"
     ]
    }
   ],
   "source": [
    "class Node:\n",
    "    def __init__(self, data):\n",
    "        self.data = data\n",
    "        self.next = None\n",
    "\n",
    "# Create linked list: 1 -> 2 -> 1\n",
    "head = Node(1)\n",
    "head.next = Node(2)\n",
    "head.next.next = Node(1)\n",
    "\n",
    "# Function to print linked list\n",
    "def print_linked_list(head):\n",
    "    temp = head\n",
    "    while temp:\n",
    "        print(temp.data, end=' ')\n",
    "        temp = temp.next\n",
    "    print()\n",
    "\n",
    "print(\"Original linked list:\")\n",
    "print_linked_list(head)\n",
    "\n",
    "# Function to check if linked list is palindrome\n",
    "def is_palindrome(head):\n",
    "    vals = []\n",
    "    temp = head\n",
    "    while temp:\n",
    "        vals.append(temp.data)\n",
    "        temp = temp.next\n",
    "    return vals == vals[::-1]\n",
    "\n",
    "if is_palindrome(head):\n",
    "    print(\"The linked list is a palindrome.\")\n",
    "else:\n",
    "    print(\"The linked list is not a palindrome.\")\n"
   ]
  },
  {
   "cell_type": "markdown",
   "id": "bd97fac3",
   "metadata": {},
   "source": [
    "Implement a Binary Search Tree (BST) data structure, including methods for insertion, deletion, and search.\n",
    "\n",
    "Expected output: The program should be able to perform various BST operations and print the results."
   ]
  },
  {
   "cell_type": "code",
   "execution_count": null,
   "id": "f0da7240",
   "metadata": {},
   "outputs": [
    {
     "name": "stdout",
     "output_type": "stream",
     "text": [
      "2 1 3 5 "
     ]
    }
   ],
   "source": [
    "class Node:\n",
    "    def __init__(self, v):\n",
    "        self.data = v\n",
    "        self.left = None\n",
    "        self.right = None\n",
    "\n",
    "def insert(root, v):\n",
    "    if not root:\n",
    "        return Node(v)\n",
    "    if v < root.data:\n",
    "        root.left = insert(root.left, v)\n",
    "    else:\n",
    "        root.right = insert(root.right, v)\n",
    "    return root\n",
    "\n",
    "def search(root, v):\n",
    "    if not root:\n",
    "        return False\n",
    "    if root.data == v:\n",
    "        return True\n",
    "    if v < root.data:\n",
    "        return search(root.left, v)\n",
    "    else:\n",
    "        return search(root.right, v)\n",
    "\n",
    "def find_min(node):\n",
    "    while node.left:\n",
    "        node = node.left\n",
    "    return node\n",
    "\n",
    "def delete(root, v):\n",
    "    if not root:\n",
    "        return root\n",
    "    if v < root.data:\n",
    "        root.left = delete(root.left, v)\n",
    "    elif v > root.data:\n",
    "        root.right = delete(root.right, v)\n",
    "    else:\n",
    "        if not root.left:\n",
    "            return root.right\n",
    "        if not root.right:\n",
    "            return root.left\n",
    "        temp = find_min(root.right)\n",
    "        root.data = temp.data\n",
    "        root.right = delete(root.right, temp.data)\n",
    "    return root\n",
    "\n",
    "def display_inorder(root):\n",
    "    if root:\n",
    "        display_inorder(root.left)\n",
    "        print(root.data, end=' ')\n",
    "        display_inorder(root.right)\n",
    "\n",
    "# Example usage\n",
    "root = None\n",
    "for x in [3, 1, 4, 2]:\n",
    "    root = insert(root, x)\n",
    "display_inorder(root)\n",
    "print()\n",
    "print(search(root, 2))\n",
    "print(search(root, 5))\n",
    "root = delete(root, 3)\n",
    "display_inorder(root)\n",
    "print()"
   ]
  }
 ],
 "metadata": {
  "kernelspec": {
   "display_name": "MLenv",
   "language": "python",
   "name": "python3"
  },
  "language_info": {
   "codemirror_mode": {
    "name": "ipython",
    "version": 3
   },
   "file_extension": ".py",
   "mimetype": "text/x-python",
   "name": "python",
   "nbconvert_exporter": "python",
   "pygments_lexer": "ipython3",
   "version": "3.12.8"
  }
 },
 "nbformat": 4,
 "nbformat_minor": 5
}
