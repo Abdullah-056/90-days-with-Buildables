{
 "cells": [
  {
   "cell_type": "markdown",
   "id": "d9f157f1",
   "metadata": {},
   "source": [
    "# Day 2 in a Buildables Fellowship\n"
   ]
  },
  {
   "cell_type": "markdown",
   "id": "69cc7cbe",
   "metadata": {},
   "source": [
    "Palindrome Checker (Word)\n",
    "Check if a given word is a palindrome."
   ]
  },
  {
   "cell_type": "code",
   "execution_count": 1,
   "id": "b1bd884a",
   "metadata": {},
   "outputs": [
    {
     "name": "stdout",
     "output_type": "stream",
     "text": [
      "racecar  is a Palindrome\n"
     ]
    }
   ],
   "source": [
    "\n",
    "word = input(\"Enter a word = \")\n",
    "rev = word[::-1]\n",
    "length = len(word)\n",
    "for i in range(length):\n",
    "    if word[i] == rev[i]:\n",
    "        length = length - 1\n",
    "\n",
    "if length == 0:\n",
    "    print(word,\" is a Palindrome\")\n",
    "else:\n",
    "    print(word,\" is not a Palindrome\")"
   ]
  },
  {
   "cell_type": "markdown",
   "id": "b861e01d",
   "metadata": {},
   "source": [
    "Print numbers from 1 to 100 with rules:\n",
    "- Multiples of 3 → \"Fizz\"\n",
    "- Multiples of 5 → \"Buzz\"\n",
    "- Multiples of both → \"FizzBuzz\""
   ]
  },
  {
   "cell_type": "code",
   "execution_count": 7,
   "id": "6e8282e5",
   "metadata": {},
   "outputs": [
    {
     "name": "stdout",
     "output_type": "stream",
     "text": [
      "Fizz  3\n",
      "Buzz  5\n",
      "Fizz  6\n",
      "Fizz  9\n",
      "Buzz  10\n",
      "Fizz  12\n",
      "FizzBuzz  15\n",
      "Fizz  18\n",
      "Buzz  20\n",
      "Fizz  21\n",
      "Fizz  24\n",
      "Buzz  25\n",
      "Fizz  27\n",
      "FizzBuzz  30\n",
      "Fizz  33\n",
      "Buzz  35\n",
      "Fizz  36\n",
      "Fizz  39\n",
      "Buzz  40\n",
      "Fizz  42\n",
      "FizzBuzz  45\n",
      "Fizz  48\n",
      "Buzz  50\n",
      "Fizz  51\n",
      "Fizz  54\n",
      "Buzz  55\n",
      "Fizz  57\n",
      "FizzBuzz  60\n",
      "Fizz  63\n",
      "Buzz  65\n",
      "Fizz  66\n",
      "Fizz  69\n",
      "Buzz  70\n",
      "Fizz  72\n",
      "FizzBuzz  75\n",
      "Fizz  78\n",
      "Buzz  80\n",
      "Fizz  81\n",
      "Fizz  84\n",
      "Buzz  85\n",
      "Fizz  87\n",
      "FizzBuzz  90\n",
      "Fizz  93\n",
      "Buzz  95\n",
      "Fizz  96\n",
      "Fizz  99\n"
     ]
    }
   ],
   "source": [
    "for i in range(1,100):\n",
    "\n",
    "    if i % 3 == 0 and i%5 == 0:\n",
    "        print(\"FizzBuzz \",i)\n",
    "\n",
    "    elif i % 3 == 0:\n",
    "        print(\"Fizz \",i)\n",
    "    elif i%5 == 0:\n",
    "        print(\"Buzz \",i)\n",
    "    else:\n",
    "        pass\n",
    "    \n",
    "    "
   ]
  },
  {
   "cell_type": "markdown",
   "id": "d4013c50",
   "metadata": {},
   "source": [
    "Find the nth Fibonacci number."
   ]
  },
  {
   "cell_type": "code",
   "execution_count": 14,
   "id": "2ac039dc",
   "metadata": {},
   "outputs": [
    {
     "name": "stdout",
     "output_type": "stream",
     "text": [
      "Fibonacci no 10 is 55\n"
     ]
    }
   ],
   "source": [
    "def fib(n):\n",
    "    if n==1:\n",
    "        return 1\n",
    "    elif n==0:\n",
    "        return 0\n",
    "    else:\n",
    "        return fib(n-1) + fib(n-2)\n",
    "    \n",
    "print(f\"Fibonacci no 10 is {fib(10)}\")\n",
    "    \n",
    "# 10 is 55\n"
   ]
  },
  {
   "cell_type": "markdown",
   "id": "089063cb",
   "metadata": {},
   "source": [
    "\n",
    "Check if a given number is prime.\n",
    "\n",
    "Input: 7 → \"7 is a prime number.\"\n",
    "\n",
    "Input: 10 → \"10 is not a prime number.\""
   ]
  },
  {
   "cell_type": "code",
   "execution_count": 16,
   "id": "c1a163d7",
   "metadata": {},
   "outputs": [
    {
     "name": "stdout",
     "output_type": "stream",
     "text": [
      "10 is not a prime number\n"
     ]
    }
   ],
   "source": [
    "number = int(input(\"Please enter a number to check = \"))\n",
    "div = -2\n",
    "for i in range(1,number):\n",
    "    if number % i==0:\n",
    "        div = div + 1\n",
    "\n",
    "if div == 0:\n",
    "    print(f\"{number} is a Prime Number\")\n",
    "else:\n",
    "    print(f\"{number} is not a prime number\")\n"
   ]
  },
  {
   "cell_type": "markdown",
   "id": "49998d10",
   "metadata": {},
   "source": [
    "Computer generates a random number; user guesses until correct.\n",
    "\n",
    "Program should respond with \"Too high!\", \"Too low!\", or \"Correct!\"."
   ]
  },
  {
   "cell_type": "code",
   "execution_count": 17,
   "id": "b456d0f5",
   "metadata": {},
   "outputs": [
    {
     "name": "stdout",
     "output_type": "stream",
     "text": [
      "You have 6 left\n",
      "The number is greater than 45\n",
      "You have 5 left\n",
      "The number is greater than 65\n",
      "You have 4 left\n",
      "The number is less than 85\n",
      "You have 3 left\n",
      "The number is less than 85\n",
      "You have 2 left\n",
      "The number is greater than 74\n",
      "You have 1 left\n",
      "The number is greater than 78\n",
      "You connot try more. You already guessed 5 times\n",
      "The number was 82\n"
     ]
    }
   ],
   "source": [
    "import random \n",
    "num = random.randint(1,100)\n",
    "\n",
    "guess = 6 \n",
    "for i in range(7):\n",
    "    if guess: \n",
    "        print(f\"You have {guess} left\")\n",
    "        a = int(input(\"enter a number between 1-100 = \"))\n",
    "\n",
    "        if a < num:\n",
    "            print(f'The number is greater than {a}')\n",
    "        elif a > num:\n",
    "            print(f'The number is less than {a}')\n",
    "        else:\n",
    "            print(f'You guessed it right. The number was {num}')\n",
    "            break\n",
    "        guess = guess - 1\n",
    "\n",
    "    else:\n",
    "        print(f\"You connot try more. You already guessed 5 times\")\n",
    "        print(f'The number was {num}')"
   ]
  },
  {
   "cell_type": "markdown",
   "id": "3e97514f",
   "metadata": {},
   "source": [
    "Create a list of squares of the first 10 integers."
   ]
  },
  {
   "cell_type": "code",
   "execution_count": 19,
   "id": "4e15fa05",
   "metadata": {},
   "outputs": [
    {
     "name": "stdout",
     "output_type": "stream",
     "text": [
      "[1, 4, 9, 16, 25, 36, 49, 64, 81, 100]\n"
     ]
    }
   ],
   "source": [
    "lists = []\n",
    "for i in range(1,11):\n",
    "    lists.append(i ** 2)\n",
    "\n",
    "print(lists)"
   ]
  },
  {
   "cell_type": "markdown",
   "id": "da82259a",
   "metadata": {},
   "source": [
    "Convert temperatures between Celsius, Fahrenheit, and Kelvin.\n",
    "\n",
    "Input: 20°C → \"20°C = 68°F = 293.15K\""
   ]
  },
  {
   "cell_type": "code",
   "execution_count": 1,
   "id": "a8d26df8",
   "metadata": {},
   "outputs": [
    {
     "name": "stdout",
     "output_type": "stream",
     "text": [
      "20°C = 68.00°F = 293.15K\n"
     ]
    }
   ],
   "source": [
    "# Temperature conversion from Celsius to Fahrenheit and Kelvin\n",
    "\n",
    "def convert_temperature(celsius):\n",
    "    fahrenheit = (celsius * 9/5) + 32\n",
    "    kelvin = celsius + 273.15\n",
    "    return f\"{celsius}°C = {fahrenheit:.2f}°F = {kelvin:.2f}K\"\n",
    "\n",
    "# Example usage\n",
    "print(convert_temperature(20))"
   ]
  },
  {
   "cell_type": "markdown",
   "id": "ea86072e",
   "metadata": {},
   "source": [
    "Check if a sentence is a palindrome (ignoring spaces and punctuation).\n",
    "\n",
    "Input: \"A man, a plan, a canal: Panama\" → \"is a palindrome.\"\n",
    "\n",
    "Input: \"Hello, world!\" → \"is not a palindrome.\""
   ]
  },
  {
   "cell_type": "code",
   "execution_count": null,
   "id": "3d657aed",
   "metadata": {},
   "outputs": [
    {
     "name": "stdout",
     "output_type": "stream",
     "text": [
      "A man, a plan, a canal: Panamam is not a palindrome\n"
     ]
    }
   ],
   "source": [
    "sen = 'A man, a plan, a canal: Panama'\n",
    "sen2 = 'Hello, world!'\n",
    "import string\n",
    "sen_low = sen.lower()\n",
    "sen_no_punct = ''.join(char for char in sen_low if char not in string.punctuation)\n",
    "\n",
    "into_list = sen_no_punct.split(' ')\n",
    "st_list = []\n",
    "for item in into_list:\n",
    "    for i in item:\n",
    "        st_list.append(i)\n",
    "\n",
    "rev_list = st_list[::-1]\n",
    "\n",
    "if st_list == rev_list:\n",
    "    print(f\"{sen} is a palindrome\")\n",
    "else:\n",
    "    print(f\"{sen} is not a palindrome\")"
   ]
  },
  {
   "cell_type": "markdown",
   "id": "0b30e5d9",
   "metadata": {},
   "source": [
    "Reverse Words in a Sentence\n",
    "Reverse the order of words in a sentence.\n",
    "\n",
    "Input: \"The quick brown fox jumps over the lazy dog.\"\n",
    "\n",
    "Output: \"dog. lazy the over jumps fox brown quick The\""
   ]
  },
  {
   "cell_type": "code",
   "execution_count": 18,
   "id": "323f91ce",
   "metadata": {},
   "outputs": [
    {
     "data": {
      "text/plain": [
       "'dog. lazy the over jumps fox brown quick The'"
      ]
     },
     "execution_count": 18,
     "metadata": {},
     "output_type": "execute_result"
    }
   ],
   "source": [
    "sen  = \"The quick brown fox jumps over the lazy dog.\"\n",
    "\n",
    "words = sen.split(' ')\n",
    "new_sen = ' '.join(words[::-1])\n",
    "new_sen"
   ]
  },
  {
   "cell_type": "markdown",
   "id": "0ab0a6d9",
   "metadata": {},
   "source": [
    "Anagram Checker\n",
    "Check if two words are anagrams.\n",
    "\n",
    "\"listen\", \"silent\" → \"are anagrams.\"\n",
    "\n",
    "\"python\", \"java\" → \"are not anagrams.\""
   ]
  },
  {
   "cell_type": "code",
   "execution_count": 24,
   "id": "55f2e76c",
   "metadata": {},
   "outputs": [
    {
     "name": "stdout",
     "output_type": "stream",
     "text": [
      "listen and silent are anagrams.\n",
      "python and java are not anagrams.\n"
     ]
    }
   ],
   "source": [
    "word1, word2 = 'listen', 'silent'\n",
    "if sorted(word1) == sorted(word2):\n",
    "    print(f\"{word1} and {word2} are anagrams.\")\n",
    "else:\n",
    "    print(f\"{word1} and {word2} are not anagrams.\")\n",
    "\n",
    "word1, word2 = 'python', 'java'\n",
    "if sorted(word1) == sorted(word2):\n",
    "    print(f\"{word1} and {word2} are anagrams.\")\n",
    "else:\n",
    "    print(f\"{word1} and {word2} are not anagrams.\")\n"
   ]
  },
  {
   "cell_type": "markdown",
   "id": "638ec627",
   "metadata": {},
   "source": [
    "Create a custom iterator class that returns even numbers up to a limit."
   ]
  },
  {
   "cell_type": "code",
   "execution_count": 25,
   "id": "011ba168",
   "metadata": {},
   "outputs": [
    {
     "name": "stdout",
     "output_type": "stream",
     "text": [
      "[2, 4, 6, 8, 10]\n"
     ]
    }
   ],
   "source": [
    "num = int(input(\"How many even no. do you want = \"))\n",
    "lists = []\n",
    "for i in range(1, num +1):\n",
    "    if i%2 == 0:\n",
    "        lists.append(i)\n",
    "    \n",
    "print(lists)"
   ]
  }
 ],
 "metadata": {
  "kernelspec": {
   "display_name": "MLenv",
   "language": "python",
   "name": "python3"
  },
  "language_info": {
   "codemirror_mode": {
    "name": "ipython",
    "version": 3
   },
   "file_extension": ".py",
   "mimetype": "text/x-python",
   "name": "python",
   "nbconvert_exporter": "python",
   "pygments_lexer": "ipython3",
   "version": "3.12.8"
  }
 },
 "nbformat": 4,
 "nbformat_minor": 5
}
